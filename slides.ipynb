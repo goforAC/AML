{
 "cells": [
  {
   "cell_type": "markdown",
   "metadata": {
    "slideshow": {
     "slide_type": "slide"
    }
   },
   "source": [
    "# Kernel Methods\n",
    "\n",
    "## in Advanced Machine Learning\n",
    "\n",
    "Ann-Christin Meisener & Alexander Höreth, 15.12.2016\n"
   ]
  },
  {
   "cell_type": "markdown",
   "metadata": {
    "slideshow": {
     "slide_type": "subslide"
    }
   },
   "source": [
    "## What to expect?\n",
    "\n",
    "**How to transform non-linear to linear space.** \n",
    "\n",
    "* No support vector machines!\n",
    "  * Although SVMs and Kernel Methods are deeply connected, there will be a individual presentation for the former.\n",
    "* Lots of math,\n",
    "* but also lots of visuals in order to make sense of the math."
   ]
  },
  {
   "cell_type": "code",
   "execution_count": null,
   "metadata": {
    "collapsed": false,
    "slideshow": {
     "slide_type": "skip"
    }
   },
   "outputs": [],
   "source": [
    "%matplotlib inline\n",
    "from matplotlib import pyplot as plt\n",
    "from matplotlib.pyplot import plot\n",
    "from mpl_toolkits.mplot3d import Axes3D\n",
    "import numpy as np\n",
    "\n",
    "\n",
    "def make_legend(*handles):\n",
    "    return plt.legend(\n",
    "        bbox_to_anchor=(0., 1.02, 1., .102), loc=3,\n",
    "        ncol=2, mode=\"expand\", borderaxespad=0.\n",
    "    )\n",
    "\n",
    "\n",
    "def plot_multi(plots, m='o', ax=None):\n",
    "    if ax is None:\n",
    "        vals = list(plots.values())\n",
    "        dims = len([v for v in vals[0] if not isinstance(v, str)])\n",
    "        projection = '3d' if dims == 3 else 'rectilinear'\n",
    "        fig = plt.figure()\n",
    "        ax = fig.add_subplot(111, projection=projection)\n",
    "    plots = {k: v if isinstance(v[-1], str) else v + (m,) for k, v in plots.items()}\n",
    "    handles = [ax.plot(*v, label=k)[0] for k, v in plots.items()]\n",
    "    make_legend(*handles)\n",
    "    \n",
    "\n",
    "def subplot_multi(multiplots, scale=(1,2)):\n",
    "    for i, multiplot in enumerate(multiplots):\n",
    "        ax = plt.subplot(*scale, i+1)\n",
    "        plot_multi(multiplot, ax=ax)"
   ]
  },
  {
   "cell_type": "markdown",
   "metadata": {
    "slideshow": {
     "slide_type": "slide"
    }
   },
   "source": [
    "# Seperability"
   ]
  },
  {
   "cell_type": "markdown",
   "metadata": {
    "slideshow": {
     "slide_type": "subslide"
    }
   },
   "source": [
    "## Non-linear $\\rightarrow$ linear"
   ]
  },
  {
   "cell_type": "code",
   "execution_count": null,
   "metadata": {
    "collapsed": false,
    "slideshow": {
     "slide_type": "-"
    }
   },
   "outputs": [],
   "source": [
    "x = np.arange(11) ** 2\n",
    "a = np.arange(-1, 10)\n",
    "b = np.arange(2, 13)\n",
    "subplot_multi([\n",
    "  {'class A': (x, a), 'class B': (x, b)},\n",
    "  {'class A': (np.sqrt(x), a), 'class B': (np.sqrt(x), b)},\n",
    "])"
   ]
  },
  {
   "cell_type": "markdown",
   "metadata": {
    "slideshow": {
     "slide_type": "subslide"
    }
   },
   "source": [
    "## Non-linear $\\rightarrow$ linear II"
   ]
  },
  {
   "cell_type": "code",
   "execution_count": null,
   "metadata": {
    "collapsed": false,
    "slideshow": {
     "slide_type": "-"
    }
   },
   "outputs": [],
   "source": [
    "x = np.arange(-10, 10, .4)\n",
    "a = x ** 2 + np.random.normal(0, 6, 50) + 20\n",
    "b = x ** 2 + np.random.normal(0, 6, 50) - 20\n",
    "z = x ** 2\n",
    "subplot_multi([\n",
    "  {'class A': (x, a), 'class B': (x, b), 'sep': (x, x**2, '-')},\n",
    "  {'class A': (z, a), 'class B': (z, b), 'sep': (z, x**2, '-')},\n",
    "])"
   ]
  },
  {
   "cell_type": "markdown",
   "metadata": {
    "slideshow": {
     "slide_type": "subslide"
    }
   },
   "source": [
    "# Linear $\\rightarrow$ non-linear"
   ]
  },
  {
   "cell_type": "code",
   "execution_count": null,
   "metadata": {
    "collapsed": false,
    "slideshow": {
     "slide_type": "-"
    }
   },
   "outputs": [],
   "source": [
    "a = np.array([-3, -2, 5, 6, 9])\n",
    "b = np.array([0, 2, 3])\n",
    "subplot_multi([\n",
    "    {'a': (a, a*0), 'b': (b, b*0)},\n",
    "    {'a': (a, a**2), 'b': (b, b**2)}\n",
    "])"
   ]
  }
 ],
 "metadata": {
  "celltoolbar": "Slideshow",
  "kernelspec": {
   "display_name": "Python 3",
   "language": "python",
   "name": "python3"
  },
  "language_info": {
   "codemirror_mode": {
    "name": "ipython",
    "version": 3
   },
   "file_extension": ".py",
   "mimetype": "text/x-python",
   "name": "python",
   "nbconvert_exporter": "python",
   "pygments_lexer": "ipython3",
   "version": "3.5.2"
  }
 },
 "nbformat": 4,
 "nbformat_minor": 2
}
