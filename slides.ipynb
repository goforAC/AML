{
 "cells": [
  {
   "cell_type": "markdown",
   "metadata": {
    "slideshow": {
     "slide_type": "slide"
    }
   },
   "source": [
    "# Kernel Methods\n",
    "\n",
    "## in Advanced Machine Learning\n",
    "\n",
    "Ann-Christin Meisener & Alexander Höreth, 15.12.2016\n"
   ]
  },
  {
   "cell_type": "markdown",
   "metadata": {
    "slideshow": {
     "slide_type": "subslide"
    }
   },
   "source": [
    "## What to expect?\n",
    "\n",
    "**How to transform non-linear to linear space.** \n",
    "* Kernel Trick  \n",
    "  * Application -> Support Vector Machine However, no support vector machines! Although SVMs and  Kernel Methods are deeply connected, there will be a individual presentation for the former.\n",
    "  * Definition and Formalia \n",
    "* Mercer's theorem\n",
    "* Valid Kernels \n",
    "* but also lots of visuals in order to make sense of the math (RBF kernel."
   ]
  },
  {
   "cell_type": "code",
   "execution_count": null,
   "metadata": {
    "collapsed": false,
    "slideshow": {
     "slide_type": "skip"
    }
   },
   "outputs": [],
   "source": [
    "%matplotlib inline\n",
    "from matplotlib import pyplot as plt\n",
    "from matplotlib.pyplot import plot\n",
    "from mpl_toolkits.mplot3d import Axes3D\n",
    "import numpy as np\n",
    "from playground import DataGenerator\n",
    "\n",
    "\n",
    "datasets = DataGenerator()\n",
    "\n",
    "\n",
    "def make_legend(*handles):\n",
    "    return plt.legend(\n",
    "        bbox_to_anchor=(0., 1.02, 1., .102), loc=3,\n",
    "        ncol=2, mode=\"expand\", borderaxespad=0.\n",
    "    )\n",
    "\n",
    "\n",
    "def plot_multi(plots, m='o', ax=None):\n",
    "    if ax is None:\n",
    "        vals = list(plots.values())\n",
    "        dims = len([v for v in vals[0] if not isinstance(v, str)])\n",
    "        projection = '3d' if dims == 3 else 'rectilinear'\n",
    "        fig = plt.figure()\n",
    "        ax = fig.add_subplot(111, projection=projection)\n",
    "    plots = {k: v if isinstance(v[-1], str) else v + (m,) for k, v in plots.items()}\n",
    "    handles = [ax.plot(*v, label=k, markersize=4)[0] for k, v in plots.items()]\n",
    "    make_legend(*handles)\n",
    "    return ax\n",
    "    \n",
    "\n",
    "def subplot_multi(multiplots, scale=(1,2)):\n",
    "    ax = []\n",
    "    for i, multiplot in enumerate(multiplots):\n",
    "        vals = list(multiplot.values())\n",
    "        dims = len([v for v in vals[0] if not isinstance(v, str)])\n",
    "        projection = '3d' if dims == 3 else 'rectilinear'\n",
    "        ax.append(plt.subplot(*scale, i+1, projection=projection))\n",
    "        plot_multi(multiplot, ax=ax[-1])\n",
    "    return ax"
   ]
  },
  {
   "cell_type": "markdown",
   "metadata": {
    "slideshow": {
     "slide_type": "slide"
    }
   },
   "source": [
    "# Seperability"
   ]
  },
  {
   "cell_type": "markdown",
   "metadata": {
    "slideshow": {
     "slide_type": "subslide"
    }
   },
   "source": [
    "## Non-linear $\\rightarrow$ linear"
   ]
  },
  {
   "cell_type": "code",
   "execution_count": null,
   "metadata": {
    "collapsed": false,
    "slideshow": {
     "slide_type": "-"
    }
   },
   "outputs": [],
   "source": [
    "x = np.arange(11) ** 2\n",
    "a = np.arange(-1, 10)\n",
    "b = np.arange(2, 13)\n",
    "subplot_multi([\n",
    "  {'class A': (x, a), 'class B': (x, b)},\n",
    "  {'class A': (np.sqrt(x), a), 'class B': (np.sqrt(x), b)},\n",
    "]);"
   ]
  },
  {
   "cell_type": "markdown",
   "metadata": {
    "slideshow": {
     "slide_type": "subslide"
    }
   },
   "source": [
    "## Non-linear $\\rightarrow$ linear II"
   ]
  },
  {
   "cell_type": "code",
   "execution_count": null,
   "metadata": {
    "collapsed": false,
    "slideshow": {
     "slide_type": "-"
    }
   },
   "outputs": [],
   "source": [
    "x = np.arange(-10, 10, .4)\n",
    "a = x ** 2 + np.random.normal(0, 6, 50) + 20\n",
    "b = x ** 2 + np.random.normal(0, 6, 50) - 20\n",
    "z = x ** 2\n",
    "subplot_multi([\n",
    "  {'class A': (x, a), 'class B': (x, b), 'sep': (x, x**2, '-')},\n",
    "  {'class A': (z, a), 'class B': (z, b), 'sep': (z, x**2, '-')},\n",
    "]);"
   ]
  },
  {
   "cell_type": "markdown",
   "metadata": {
    "slideshow": {
     "slide_type": "subslide"
    }
   },
   "source": [
    "# Linear $\\rightarrow$ non-linear"
   ]
  },
  {
   "cell_type": "code",
   "execution_count": null,
   "metadata": {
    "collapsed": false,
    "slideshow": {
     "slide_type": "-"
    }
   },
   "outputs": [],
   "source": [
    "a = np.array([-3, -2, 5, 6, 9])\n",
    "b = np.array([0, 2, 3])\n",
    "subplot_multi([\n",
    "    {'a': (a, a*0), 'b': (b, b*0)},\n",
    "    {'a': (a, a**2), 'b': (b, b**2)}\n",
    "]);"
   ]
  },
  {
   "cell_type": "markdown",
   "metadata": {
    "slideshow": {
     "slide_type": "subslide"
    }
   },
   "source": [
    "## 2d $\\rightarrow$ 3d: xor"
   ]
  },
  {
   "cell_type": "code",
   "execution_count": null,
   "metadata": {
    "collapsed": false,
    "slideshow": {
     "slide_type": "-"
    }
   },
   "outputs": [],
   "source": [
    "plt.figure()\n",
    "p1, p2 = subplot_multi([{\n",
    "  'a': ([1, -1], [-1,  1]),\n",
    "  'b': ([1, -1], [ 1, -1]),\n",
    "}, {\n",
    "  'a': ([1, -1], [-1,  1], [1*-1, -1* 1]),\n",
    "  'b': ([1, -1], [ 1, -1], [1* 1, -1*-1]),\n",
    "}])\n",
    "p2.view_init(0, 15)"
   ]
  },
  {
   "cell_type": "code",
   "execution_count": null,
   "metadata": {
    "collapsed": false,
    "slideshow": {
     "slide_type": "subslide"
    }
   },
   "outputs": [],
   "source": [
    "x1, x2, t = datasets.xor(200)\n",
    "p1, p2 = subplot_multi([{\n",
    "  'a': (x1[ t], x2[ t]),\n",
    "  'b': (x1[~t], x2[~t]),\n",
    "}, {\n",
    "  'a': (x1[ t], x2[ t], x1[ t]*x2[ t]),\n",
    "  'b': (x1[~t], x2[~t], x1[~t]*x2[~t]),\n",
    "}])\n",
    "p2.view_init(0, 15)"
   ]
  },
  {
   "cell_type": "markdown",
   "metadata": {
    "slideshow": {
     "slide_type": "subslide"
    }
   },
   "source": []
  },
  {
   "cell_type": "code",
   "execution_count": null,
   "metadata": {
    "collapsed": false,
    "slideshow": {
     "slide_type": "-"
    }
   },
   "outputs": [],
   "source": [
    "x1, x2, t = datasets.circle(500)\n",
    "p1, p2 = subplot_multi([{\n",
    "  'a': (x1[ t], x2[ t]),\n",
    "  'b': (x1[~t], x2[~t]),\n",
    "}, {\n",
    "  'a': (x1[ t], x2[ t], x1[ t]**2 + x2[ t]**2),\n",
    "  'b': (x1[~t], x2[~t], x1[~t]**2 + x2[~t]**2),\n",
    "}])\n",
    "p2.view_init(0, 45)"
   ]
  }
 ],
 "metadata": {
  "celltoolbar": "Slideshow",
  "kernelspec": {
   "display_name": "Python 3",
   "language": "python",
   "name": "python3"
  },
  "language_info": {
   "codemirror_mode": {
    "name": "ipython",
    "version": 3
   },
   "file_extension": ".py",
   "mimetype": "text/x-python",
   "name": "python",
   "nbconvert_exporter": "python",
   "pygments_lexer": "ipython3",
   "version": "3.5.2"
  }
 },
 "nbformat": 4,
 "nbformat_minor": 2
}
