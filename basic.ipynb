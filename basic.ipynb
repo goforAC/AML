{
 "cells": [
  {
   "cell_type": "code",
   "execution_count": null,
   "metadata": {
    "collapsed": false
   },
   "outputs": [],
   "source": [
    "%matplotlib inline\n",
    "from matplotlib import pyplot as plt\n",
    "from matplotlib.pyplot import plot\n",
    "import numpy as np"
   ]
  },
  {
   "cell_type": "code",
   "execution_count": null,
   "metadata": {
    "collapsed": true
   },
   "outputs": [],
   "source": [
    "def make_legend(*handles):\n",
    "    return plt.legend(handles=handles, bbox_to_anchor=(1.05, 1), loc=2, borderaxespad=0.)\n",
    "\n",
    "\n",
    "def plot_multi(xys, globalx=None, style='o'):\n",
    "    handles = []\n",
    "    for k, xy in xys.items():\n",
    "        x = globalx if globalx is not None else xy[0]\n",
    "        y = xy if globalx is not None else xy[1]\n",
    "        line, = plt.plot(x, y, style, label=k)\n",
    "        handles.append(line)\n",
    "    make_legend(*handles)"
   ]
  },
  {
   "cell_type": "code",
   "execution_count": null,
   "metadata": {
    "collapsed": false
   },
   "outputs": [],
   "source": [
    "x = np.arange(11) ** 2\n",
    "a = np.arange(-1, 10)\n",
    "b = np.arange(2, 13)\n",
    "\n",
    "plot_multi({'class A': a, 'class B': b}, x)"
   ]
  },
  {
   "cell_type": "code",
   "execution_count": null,
   "metadata": {
    "collapsed": false
   },
   "outputs": [],
   "source": [
    "z = np.sqrt(x)\n",
    "\n",
    "plot_multi({'class A': a, 'class B': b}, z)"
   ]
  },
  {
   "cell_type": "code",
   "execution_count": null,
   "metadata": {
    "collapsed": false
   },
   "outputs": [],
   "source": [
    "x = np.arange(-10, 10, .1)\n",
    "a = x1 ** 2 + np.random.normal(0, 6, 200) + 20\n",
    "b = x1 ** 2 + np.random.normal(0, 6, 200) - 20\n",
    "\n",
    "plot_multi({'class A': a, 'class B': b}, x)\n",
    "plot(x, x1 ** 2);"
   ]
  },
  {
   "cell_type": "code",
   "execution_count": null,
   "metadata": {
    "collapsed": false
   },
   "outputs": [],
   "source": [
    "z = 2 * x ** 2\n",
    "\n",
    "plot_multi({'class A': a, 'class B': b}, z)\n",
    "plot(z, x1 ** 2);"
   ]
  }
 ],
 "metadata": {
  "kernelspec": {
   "display_name": "Python 3",
   "language": "python",
   "name": "python3"
  },
  "language_info": {
   "codemirror_mode": {
    "name": "ipython",
    "version": 3
   },
   "file_extension": ".py",
   "mimetype": "text/x-python",
   "name": "python",
   "nbconvert_exporter": "python",
   "pygments_lexer": "ipython3",
   "version": "3.5.2"
  }
 },
 "nbformat": 4,
 "nbformat_minor": 1
}
