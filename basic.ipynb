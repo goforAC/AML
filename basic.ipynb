{
 "cells": [
  {
   "cell_type": "code",
   "execution_count": null,
   "metadata": {
    "collapsed": false
   },
   "outputs": [],
   "source": [
    "%matplotlib inline\n",
    "import matplotlib.pyplot as plt\n",
    "import numpy as np"
   ]
  },
  {
   "cell_type": "code",
   "execution_count": null,
   "metadata": {
    "collapsed": true
   },
   "outputs": [],
   "source": [
    "def make_legend(*handles):\n",
    "    return plt.legend(handles=handles, bbox_to_anchor=(1.05, 1), loc=2, borderaxespad=0.)\n",
    "\n",
    "\n",
    "def plot_multi(xys, globalx=None, style='o'):\n",
    "    handles = []\n",
    "    for k, xy in xys.items():\n",
    "        x = globalx if globalx is not None else xy[0]\n",
    "        y = xy if globalx is not None else xy[1]\n",
    "        line, = plt.plot(x, y, style, label=k)\n",
    "        handles.append(line)\n",
    "    make_legend(*handles)"
   ]
  },
  {
   "cell_type": "code",
   "execution_count": null,
   "metadata": {
    "collapsed": false
   },
   "outputs": [],
   "source": [
    "x = np.arange(11) ** 2\n",
    "a = np.arange(-1, 10)\n",
    "b = np.arange(2, 13)\n",
    "\n",
    "plot_multi({'class A': a, 'class B': b}, x)"
   ]
  },
  {
   "cell_type": "code",
   "execution_count": null,
   "metadata": {
    "collapsed": false
   },
   "outputs": [],
   "source": [
    "x = np.sqrt(x)\n",
    "\n",
    "plot_multi({'class A': a, 'class B': b}, x)"
   ]
  },
  {
   "cell_type": "code",
   "execution_count": null,
   "metadata": {
    "collapsed": false
   },
   "outputs": [],
   "source": [
    "x1 = np.arange(-10, 10, .1)\n",
    "x2 = np.arange(-10, 10, .1)\n",
    "a = x1 ** 2 + np.random.normal(0, 6, 200)\n",
    "b = x2 ** 2 + np.random.normal(0, 6, 200) - 40\n",
    "\n",
    "plot_multi({'class A': (x1, a), 'class B': (x2, b)})"
   ]
  },
  {
   "cell_type": "code",
   "execution_count": null,
   "metadata": {
    "collapsed": false
   },
   "outputs": [],
   "source": [
    "z = x1 ** 2 + x2 ** 2\n",
    "\n",
    "plot_multi({'class A': a, 'class B': b}, z)"
   ]
  }
 ],
 "metadata": {
  "kernelspec": {
   "display_name": "Python 3",
   "language": "python",
   "name": "python3"
  },
  "language_info": {
   "codemirror_mode": {
    "name": "ipython",
    "version": 3
   },
   "file_extension": ".py",
   "mimetype": "text/x-python",
   "name": "python",
   "nbconvert_exporter": "python",
   "pygments_lexer": "ipython3",
   "version": "3.5.2"
  }
 },
 "nbformat": 4,
 "nbformat_minor": 1
}
