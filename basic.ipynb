{
 "cells": [
  {
   "cell_type": "code",
   "execution_count": null,
   "metadata": {
    "collapsed": false
   },
   "outputs": [],
   "source": [
    "%matplotlib notebook\n",
    "from matplotlib import pyplot as plt\n",
    "from matplotlib.pyplot import plot\n",
    "from mpl_toolkits.mplot3d import Axes3D\n",
    "import numpy as np"
   ]
  },
  {
   "cell_type": "code",
   "execution_count": null,
   "metadata": {
    "collapsed": false
   },
   "outputs": [],
   "source": [
    "def make_legend(*handles):\n",
    "    return plt.legend(\n",
    "        bbox_to_anchor=(0., 1.02, 1., .102), loc=3,\n",
    "        ncol=2, mode=\"expand\", borderaxespad=0.\n",
    "    )\n",
    "\n",
    "\n",
    "def plot_multi(plots, style='o', ax=None):\n",
    "    if ax is None:\n",
    "        vals = list(plots.values())\n",
    "        dims = len([v for v in vals[0] if not isinstance(v, str)])\n",
    "        projection = '3d' if dims == 3 else 'rectilinear'\n",
    "        fig = plt.figure()\n",
    "        ax = fig.add_subplot(111, projection=projection)\n",
    "    handles = [\n",
    "        ax.plot(*v, label=k)[0] if isinstance(v[-1], str) else \n",
    "        ax.plot(*v, style, label=k)[0] for k, v in plots.items()\n",
    "    ]\n",
    "    make_legend(*handles)"
   ]
  },
  {
   "cell_type": "code",
   "execution_count": null,
   "metadata": {
    "collapsed": false
   },
   "outputs": [],
   "source": [
    "x = np.arange(11) ** 2\n",
    "a = np.arange(-1, 10)\n",
    "b = np.arange(2, 13)\n",
    "\n",
    "plot_multi({'class A': (x, a), 'class B': (x, b)})"
   ]
  },
  {
   "cell_type": "code",
   "execution_count": null,
   "metadata": {
    "collapsed": false
   },
   "outputs": [],
   "source": [
    "z = np.sqrt(x)\n",
    "\n",
    "plot_multi({'class A': (z, a), 'class B': (z, b)})"
   ]
  },
  {
   "cell_type": "code",
   "execution_count": null,
   "metadata": {
    "collapsed": false
   },
   "outputs": [],
   "source": [
    "x = np.arange(-10, 10, .1)\n",
    "a = x ** 2 + np.random.normal(0, 6, 200) + 20\n",
    "b = x ** 2 + np.random.normal(0, 6, 200) - 20\n",
    "\n",
    "plot_multi({\n",
    "    'class A': (x, a), \n",
    "    'class B': (x, b),\n",
    "    'classifier': (x, x**2, '-'),\n",
    "})"
   ]
  },
  {
   "cell_type": "code",
   "execution_count": null,
   "metadata": {
    "collapsed": false
   },
   "outputs": [],
   "source": [
    "z = 2 * x ** 2\n",
    "\n",
    "plot_multi({\n",
    "    'class A': (z, a), \n",
    "    'class B': (z, b),\n",
    "    'classifier': (z, x**2, '-'),\n",
    "})"
   ]
  },
  {
   "cell_type": "markdown",
   "metadata": {},
   "source": [
    "## Sented: Kernels Introduction \n",
    "https://youtu.be/9IfT8KXX_9c"
   ]
  },
  {
   "cell_type": "code",
   "execution_count": null,
   "metadata": {
    "collapsed": false
   },
   "outputs": [],
   "source": [
    "c1 = np.array([[1,1],[3,1],[2,1],[2,0],[3,6],[3,4],[-5,4]])\n",
    "c2 = np.array([[2,5],[1.5,4]])\n",
    "\n",
    "plot_multi({\n",
    "    'class A': (c1[:,0], c1[:,1]), \n",
    "    'class B': (c2[:,0], c2[:,1]),\n",
    "})"
   ]
  },
  {
   "cell_type": "code",
   "execution_count": null,
   "metadata": {
    "collapsed": false
   },
   "outputs": [],
   "source": [
    "c1 = np.array([[1,1],[3,1],[2,1],[2,0],[3,6],[3,4],[-5,4]])\n",
    "c2 = np.array([[2,5],[1.5,4]])\n",
    "\n",
    "plot_multi({\n",
    "    'class A': (c1[:,0]**2, 2*c1[:,1]**2, c1[:,1]),\n",
    "    'class B': (c2[:,0]**2, 2*c2[:,1]**2, c2[:,1]),\n",
    "})"
   ]
  }
 ],
 "metadata": {
  "kernelspec": {
   "display_name": "Python 3",
   "language": "python",
   "name": "python3"
  },
  "language_info": {
   "codemirror_mode": {
    "name": "ipython",
    "version": 3
   },
   "file_extension": ".py",
   "mimetype": "text/x-python",
   "name": "python",
   "nbconvert_exporter": "python",
   "pygments_lexer": "ipython3",
   "version": "3.5.2"
  }
 },
 "nbformat": 4,
 "nbformat_minor": 1
}
