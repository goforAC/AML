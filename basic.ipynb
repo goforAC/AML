{
 "cells": [
  {
   "cell_type": "code",
   "execution_count": null,
   "metadata": {
    "collapsed": false
   },
   "outputs": [],
   "source": [
    "%matplotlib notebook\n",
    "from matplotlib import pyplot as plt\n",
    "from matplotlib.pyplot import plot\n",
    "from mpl_toolkits.mplot3d import Axes3D\n",
    "import numpy as np"
   ]
  },
  {
   "cell_type": "code",
   "execution_count": null,
   "metadata": {
    "collapsed": false
   },
   "outputs": [],
   "source": [
    "def make_legend(*handles):\n",
    "    return plt.legend(\n",
    "        bbox_to_anchor=(0., 1.02, 1., .102), loc=3,\n",
    "        ncol=2, mode=\"expand\", borderaxespad=0.\n",
    "    )\n",
    "\n",
    "\n",
    "def plot_multi(plots, m='o', ax=None):\n",
    "    if ax is None:\n",
    "        vals = list(plots.values())\n",
    "        dims = len([v for v in vals[0] if not isinstance(v, str)])\n",
    "        projection = '3d' if dims == 3 else 'rectilinear'\n",
    "        fig = plt.figure()\n",
    "        ax = fig.add_subplot(111, projection=projection)\n",
    "    plots = {k: v if isinstance(v[-1], str) else v + (m,) for k, v in plots.items()}\n",
    "    handles = [ax.plot(*v, label=k)[0] for k, v in plots.items()]\n",
    "    make_legend(*handles)"
   ]
  },
  {
   "cell_type": "markdown",
   "metadata": {},
   "source": [
    "## Gopal Malakar: Introduction to SVM and Kernel Trick\n",
    "https://youtu.be/ikt7Qze0czE"
   ]
  },
  {
   "cell_type": "code",
   "execution_count": null,
   "metadata": {
    "collapsed": false
   },
   "outputs": [],
   "source": [
    "x = np.arange(11) ** 2\n",
    "a = np.arange(-1, 10)\n",
    "b = np.arange(2, 13)\n",
    "\n",
    "plot_multi({'class A': (x, a), 'class B': (x, b)})"
   ]
  },
  {
   "cell_type": "code",
   "execution_count": null,
   "metadata": {
    "collapsed": false
   },
   "outputs": [],
   "source": [
    "z = np.sqrt(x)\n",
    "\n",
    "plot_multi({'class A': (z, a), 'class B': (z, b)})"
   ]
  },
  {
   "cell_type": "code",
   "execution_count": null,
   "metadata": {
    "collapsed": false
   },
   "outputs": [],
   "source": [
    "x = np.arange(-10, 10, .1)\n",
    "a = x ** 2 + np.random.normal(0, 6, 200) + 20\n",
    "b = x ** 2 + np.random.normal(0, 6, 200) - 20\n",
    "\n",
    "plot_multi({\n",
    "    'class A': (x, a), \n",
    "    'class B': (x, b),\n",
    "    'classifier': (x, x**2, '-'),\n",
    "})"
   ]
  },
  {
   "cell_type": "code",
   "execution_count": null,
   "metadata": {
    "collapsed": false
   },
   "outputs": [],
   "source": [
    "z = 2 * x ** 2\n",
    "\n",
    "plot_multi({\n",
    "    'class A': (z, a), \n",
    "    'class B': (z, b),\n",
    "    'classifier': (z, x**2, '-'),\n",
    "})"
   ]
  },
  {
   "cell_type": "markdown",
   "metadata": {},
   "source": [
    "## Sented: Kernels Introduction \n",
    "https://youtu.be/9IfT8KXX_9c"
   ]
  },
  {
   "cell_type": "code",
   "execution_count": null,
   "metadata": {
    "collapsed": false
   },
   "outputs": [],
   "source": [
    "c1 = np.array([[1,1],[3,1],[2,1],[2,0],[3,6],[3,4],[-5,4]])\n",
    "c2 = np.array([[2,5],[1.5,4]])\n",
    "\n",
    "plot_multi({\n",
    "    'class A': (c1[:,0], c1[:,1]), \n",
    "    'class B': (c2[:,0], c2[:,1]),\n",
    "})"
   ]
  },
  {
   "cell_type": "code",
   "execution_count": null,
   "metadata": {
    "collapsed": false
   },
   "outputs": [],
   "source": [
    "c1 = np.array([[1,1],[3,1],[2,1],[2,0],[3,6],[3,4],[-5,4]])\n",
    "c2 = np.array([[2,5],[1.5,4]])\n",
    "\n",
    "plot_multi({\n",
    "    'class A': (c1[:,0]**2, 2*c1[:,1]**2, c1[:,1]),\n",
    "    'class B': (c2[:,0]**2, 2*c2[:,1]**2, c2[:,1]),\n",
    "})"
   ]
  },
  {
   "cell_type": "markdown",
   "metadata": {},
   "source": [
    "## John Mount: Kernel Methods de-Mystified\n",
    "http://www.win-vector.com/blog/2011/10/kernel-methods-and-support-vector-machines-de-mystified/"
   ]
  },
  {
   "cell_type": "code",
   "execution_count": null,
   "metadata": {
    "collapsed": false
   },
   "outputs": [],
   "source": [
    "m = 100\n",
    "n = 2\n",
    "\n",
    "bound = 3\n",
    "u = np.random.uniform(-bound, bound, (m,n))\n",
    "c = u[:,0]**2<u[:,1]\n",
    "sx = np.arange(-np.sqrt(bound), np.sqrt(bound), 6/m)\n",
    "sy = sx**2\n",
    "\n",
    "plot_multi({\n",
    "    'class A': (u[c,0], u[c,1]),\n",
    "    'class B': (u[~c,0], u[~c,1]),\n",
    "    'classifier': (sx, sy, '-')\n",
    "})"
   ]
  },
  {
   "cell_type": "markdown",
   "metadata": {},
   "source": [
    "### Figure 6\n",
    "$$f(z)=\\sum^m_{i=1}y(i)e^{-3||u(i)-z||^2}$$"
   ]
  },
  {
   "cell_type": "code",
   "execution_count": null,
   "metadata": {
    "collapsed": false
   },
   "outputs": [],
   "source": [
    "yi = c*2-1\n",
    "f = lambda z: np.sum(yi[i]*np.exp(-3*np.linalg.norm(u[i]-z)**2) for i in range(m))\n",
    "f_sign = lambda z: np.any(np.sign(f(z))==1)\n",
    "f_vec = lambda zs: np.asarray([f_sign(z) for z in zs])\n",
    "\n",
    "cont = np.arange(-bound, bound, 6/m)\n",
    "comb = np.asarray([list(zip(cont, np.repeat(v, len(cont)))) for v in cont])\n",
    "z = np.array([f_vec(comb[i, :]) for i in range(len(cont))])\n",
    "\n",
    "plot_multi({\n",
    "    'class A': (u[c,0], u[c,1]),\n",
    "    'class B': (u[~c,0], u[~c,1]),\n",
    "    'original seperator': (sx, sy, '-'),\n",
    "})\n",
    "plt.contourf(cont, cont, z, cmap='Set3')"
   ]
  },
  {
   "cell_type": "markdown",
   "metadata": {},
   "source": [
    "### Figure 7\n",
    "$$f(z)=\\sum^m_{i=1}y(i)e^{-20||u(i)-z||^2}$$"
   ]
  }
 ],
 "metadata": {
  "kernelspec": {
   "display_name": "Python 3",
   "language": "python",
   "name": "python3"
  },
  "language_info": {
   "codemirror_mode": {
    "name": "ipython",
    "version": 3
   },
   "file_extension": ".py",
   "mimetype": "text/x-python",
   "name": "python",
   "nbconvert_exporter": "python",
   "pygments_lexer": "ipython3",
   "version": "3.5.2"
  }
 },
 "nbformat": 4,
 "nbformat_minor": 1
}
